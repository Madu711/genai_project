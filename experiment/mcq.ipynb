{
 "cells": [
  {
   "cell_type": "code",
   "execution_count": 1,
   "id": "fa8872ff",
   "metadata": {},
   "outputs": [],
   "source": [
    "import os\n",
    "import json\n",
    "import pandas as pd\n",
    "import traceback\n"
   ]
  },
  {
   "cell_type": "code",
   "execution_count": 2,
   "id": "49001d7d",
   "metadata": {},
   "outputs": [
    {
     "data": {
      "text/plain": [
       "True"
      ]
     },
     "execution_count": 2,
     "metadata": {},
     "output_type": "execute_result"
    }
   ],
   "source": [
    "from langchain.chat_models import ChatOpenAI\n",
    "from dotenv import load_dotenv\n",
    "load_dotenv()"
   ]
  },
  {
   "cell_type": "code",
   "execution_count": 3,
   "id": "c806fcd3",
   "metadata": {},
   "outputs": [],
   "source": [
    "Key = os.getenv(\"OPENAI_API_KEY\")"
   ]
  },
  {
   "cell_type": "code",
   "execution_count": 4,
   "id": "9d6f25e2",
   "metadata": {},
   "outputs": [
    {
     "name": "stderr",
     "output_type": "stream",
     "text": [
      "C:\\Users\\user\\AppData\\Local\\Temp\\ipykernel_2988\\3061724652.py:1: LangChainDeprecationWarning: The class `ChatOpenAI` was deprecated in LangChain 0.0.10 and will be removed in 1.0. An updated version of the class exists in the :class:`~langchain-openai package and should be used instead. To use it run `pip install -U :class:`~langchain-openai` and import as `from :class:`~langchain_openai import ChatOpenAI``.\n",
      "  llm = ChatOpenAI(openai_api_key = Key, model_name = \"gpt-3.5-turbo\", temperature = 0.5)\n"
     ]
    }
   ],
   "source": [
    "llm = ChatOpenAI(openai_api_key = Key, model_name = \"gpt-3.5-turbo\", temperature = 0.5)"
   ]
  },
  {
   "cell_type": "code",
   "execution_count": null,
   "id": "2f6d66b5",
   "metadata": {},
   "outputs": [],
   "source": []
  },
  {
   "cell_type": "code",
   "execution_count": 6,
   "id": "eca4af07",
   "metadata": {},
   "outputs": [],
   "source": [
    "from langchain.llms import OpenAI\n",
    "from langchain.prompts import PromptTemplate\n",
    "from langchain.chains import LLMChain\n",
    "from langchain.chains import SequentialChain\n",
    "from langchain.callbacks import  get_openai_callback\n",
    "import PyPDF2\n"
   ]
  },
  {
   "cell_type": "code",
   "execution_count": 7,
   "id": "85216d61",
   "metadata": {},
   "outputs": [],
   "source": [
    "\n",
    "\n",
    "TEMPLATE =\"\"\"\n",
    "Text:{text}\n",
    "You are an expert in Python programming. Generate {num_questions} multiple-choice questions based on the {topic} provided and answer them using the given {text}.\n",
    "Each question should have 4 options (A,B,C,D) and one correct answer.\n",
    "The questions should be of {difficulty} difficulty level.\n",
    "Generate the questions in the following format:\n",
    "\n",
    "Question:\n",
    "(Write the question here)\n",
    "\n",
    "Options:\n",
    "A) Option 1\n",
    "B) Option 2\n",
    "C) Option 3\n",
    "D) Option 4\n",
    "\n",
    "Correct Answer:\n",
    "(Write the correct option letter here, e.g., “B”)\n",
    "\n",
    "Explanation:\n",
    "(Briefly explain why the correct option is right and why others are wrong — optional but recommended.)\n",
    "##RESPONSE_FORMAT##\n",
    "{response_json}\n",
    "\n",
    "\n",
    "##Note: Don't forget to ask the mentioned number of questions in the response.\n",
    "\"\"\"\n"
   ]
  },
  {
   "cell_type": "code",
   "execution_count": 8,
   "id": "8634a02c",
   "metadata": {},
   "outputs": [],
   "source": [
    "RESPONSE_JSON = \"\"\"Question:\n",
    "(Write the question here)\n",
    "\n",
    "Options:\n",
    "A) Option 1\n",
    "B) Option 2\n",
    "C) Option 3\n",
    "D) Option 4\n",
    "\n",
    "Correct Answer:\n",
    "(Write the correct option letter here, e.g., “B”)\n",
    "\n",
    "Explanation:\n",
    "(Briefly explain why the correct option is right and why others are wrong — optional but recommended.)\"\"\""
   ]
  },
  {
   "cell_type": "code",
   "execution_count": 9,
   "id": "b56455bc",
   "metadata": {},
   "outputs": [],
   "source": [
    "quiz_generation_prompt = PromptTemplate(input_variables=[\"topic\", \"difficulty\", \"num_questions\",\"text\",\"response_json\"],\n",
    "                                        template=TEMPLATE)\n"
   ]
  },
  {
   "cell_type": "code",
   "execution_count": 10,
   "id": "8926eeb5",
   "metadata": {},
   "outputs": [
    {
     "name": "stderr",
     "output_type": "stream",
     "text": [
      "C:\\Users\\user\\AppData\\Local\\Temp\\ipykernel_2988\\1736729569.py:1: LangChainDeprecationWarning: The class `LLMChain` was deprecated in LangChain 0.1.17 and will be removed in 1.0. Use :meth:`~RunnableSequence, e.g., `prompt | llm`` instead.\n",
      "  chain = LLMChain(llm=llm, prompt=quiz_generation_prompt, output_key=\"quiz\",verbose=True)\n"
     ]
    }
   ],
   "source": [
    "chain = LLMChain(llm=llm, prompt=quiz_generation_prompt, output_key=\"quiz\",verbose=True)"
   ]
  },
  {
   "cell_type": "code",
   "execution_count": 11,
   "id": "052554ed",
   "metadata": {},
   "outputs": [],
   "source": [
    "TEMPLATE2 = \"\"\"\n",
    "You are an expert {topic} reviewer and I need you to {num_questions} and review all of them. Review and analyze the following multiple-choice questions generated by an AI model.\n",
    "Evaluate the quality of the questions, options, and answers. Provide feedback on clarity, relevance, and correctness from the {quiz}.\n",
    "\"\"\""
   ]
  },
  {
   "cell_type": "code",
   "execution_count": 12,
   "id": "1df88a27",
   "metadata": {},
   "outputs": [],
   "source": [
    "quiz_review_prompt = PromptTemplate(input_variables=[\"quiz\",\"topic\"], template=TEMPLATE2)"
   ]
  },
  {
   "cell_type": "code",
   "execution_count": 13,
   "id": "56c3a013",
   "metadata": {},
   "outputs": [],
   "source": [
    "review_chain = LLMChain(llm=llm, prompt=quiz_review_prompt, output_key=\"review\", verbose=True)"
   ]
  },
  {
   "cell_type": "code",
   "execution_count": 14,
   "id": "681a760a",
   "metadata": {},
   "outputs": [],
   "source": [
    "generate_quiz_chain = SequentialChain(\n",
    "    chains=[chain, review_chain],\n",
    "    input_variables=[\"topic\", \"difficulty\", \"num_questions\", \"text\",\"response_json\"],\n",
    "    output_variables=[\"quiz\", \"review\"],\n",
    "    verbose=True\n",
    "    )"
   ]
  },
  {
   "cell_type": "code",
   "execution_count": 15,
   "id": "6026f526",
   "metadata": {},
   "outputs": [],
   "source": [
    "file_path = r\"C:\\Users\\user\\raghavendra\\genai_project\\data.txt\"\n"
   ]
  },
  {
   "cell_type": "code",
   "execution_count": 16,
   "id": "c4d2e328",
   "metadata": {},
   "outputs": [],
   "source": [
    "with open(file_path, \"r\") as file:\n",
    "    text = file.read()"
   ]
  },
  {
   "cell_type": "code",
   "execution_count": 17,
   "id": "630f0285",
   "metadata": {},
   "outputs": [
    {
     "name": "stdout",
     "output_type": "stream",
     "text": [
      "Python is a popular programming language. It was created by Guido van Rossum, and released in 1991.\n",
      "\n",
      "It is used for:\n",
      "\n",
      "web development (server-side),\n",
      "software development,\n",
      "mathematics,\n",
      "system scripting.\n",
      "What can Python do?\n",
      "Python can be used on a server to create web applications.\n",
      "Python can be used alongside software to create workflows.\n",
      "Python can connect to database systems. It can also read and modify files.\n",
      "Python can be used to handle big data and perform complex mathematics.\n",
      "Python can be used for rapid prototyping, or for production-ready software development.\n",
      "Why Python?\n",
      "Python works on different platforms (Windows, Mac, Linux, Raspberry Pi, etc).\n",
      "Python has a simple syntax similar to the English language.\n",
      "Python has syntax that allows developers to write programs with fewer lines than some other programming languages.\n",
      "Python runs on an interpreter system, meaning that code can be executed as soon as it is written. This means that prototyping can be very quick.\n",
      "Python can be treated in a procedural way, an object-oriented way or a functional way.\n",
      "Good to know\n",
      "The most recent major version of Python is Python 3, which we shall be using in this tutorial. However, Python 2, although not being updated with anything other than security updates, is still quite popular.\n",
      "In this tutorial Python will be written in a text editor. It is possible to write Python in an Integrated Development Environment, such as Thonny, Pycharm, Netbeans or Eclipse which are particularly useful when managing larger collections of Python files.\n",
      "Python Syntax compared to other programming languages\n",
      "Python was designed for readability, and has some similarities to the English language with influence from mathematics.\n",
      "Python uses new lines to complete a command, as opposed to other programming languages which often use semicolons or parentheses.\n",
      "Python relies on indentation, using whitespace, to define scope; such as the scope of loops, functions and classes. Other programming languages often use curly-brackets for this purpose.\n"
     ]
    }
   ],
   "source": [
    "print(text)"
   ]
  },
  {
   "cell_type": "code",
   "execution_count": 18,
   "id": "cdb2a8ff",
   "metadata": {},
   "outputs": [],
   "source": [
    "topic = \"Python Programming\"\n",
    "difficulty = \"easy\"\n",
    "num_questions = 10"
   ]
  },
  {
   "cell_type": "code",
   "execution_count": 19,
   "id": "bd85a380",
   "metadata": {},
   "outputs": [
    {
     "name": "stderr",
     "output_type": "stream",
     "text": [
      "C:\\Users\\user\\AppData\\Local\\Temp\\ipykernel_2988\\475275216.py:3: LangChainDeprecationWarning: The method `Chain.__call__` was deprecated in langchain 0.1.0 and will be removed in 1.0. Use :meth:`~invoke` instead.\n",
      "  response = generate_quiz_chain(\n"
     ]
    },
    {
     "name": "stdout",
     "output_type": "stream",
     "text": [
      "\n",
      "\n",
      "\u001b[1m> Entering new SequentialChain chain...\u001b[0m\n",
      "\n",
      "\n",
      "\u001b[1m> Entering new LLMChain chain...\u001b[0m\n",
      "Prompt after formatting:\n",
      "\u001b[32;1m\u001b[1;3m\n",
      "Text:Python is a popular programming language. It was created by Guido van Rossum, and released in 1991.\n",
      "\n",
      "It is used for:\n",
      "\n",
      "web development (server-side),\n",
      "software development,\n",
      "mathematics,\n",
      "system scripting.\n",
      "What can Python do?\n",
      "Python can be used on a server to create web applications.\n",
      "Python can be used alongside software to create workflows.\n",
      "Python can connect to database systems. It can also read and modify files.\n",
      "Python can be used to handle big data and perform complex mathematics.\n",
      "Python can be used for rapid prototyping, or for production-ready software development.\n",
      "Why Python?\n",
      "Python works on different platforms (Windows, Mac, Linux, Raspberry Pi, etc).\n",
      "Python has a simple syntax similar to the English language.\n",
      "Python has syntax that allows developers to write programs with fewer lines than some other programming languages.\n",
      "Python runs on an interpreter system, meaning that code can be executed as soon as it is written. This means that prototyping can be very quick.\n",
      "Python can be treated in a procedural way, an object-oriented way or a functional way.\n",
      "Good to know\n",
      "The most recent major version of Python is Python 3, which we shall be using in this tutorial. However, Python 2, although not being updated with anything other than security updates, is still quite popular.\n",
      "In this tutorial Python will be written in a text editor. It is possible to write Python in an Integrated Development Environment, such as Thonny, Pycharm, Netbeans or Eclipse which are particularly useful when managing larger collections of Python files.\n",
      "Python Syntax compared to other programming languages\n",
      "Python was designed for readability, and has some similarities to the English language with influence from mathematics.\n",
      "Python uses new lines to complete a command, as opposed to other programming languages which often use semicolons or parentheses.\n",
      "Python relies on indentation, using whitespace, to define scope; such as the scope of loops, functions and classes. Other programming languages often use curly-brackets for this purpose.\n",
      "You are an expert in Python programming. Generate 5 multiple-choice questions based on the Python Programming provided and answer them using the given Python is a popular programming language. It was created by Guido van Rossum, and released in 1991.\n",
      "\n",
      "It is used for:\n",
      "\n",
      "web development (server-side),\n",
      "software development,\n",
      "mathematics,\n",
      "system scripting.\n",
      "What can Python do?\n",
      "Python can be used on a server to create web applications.\n",
      "Python can be used alongside software to create workflows.\n",
      "Python can connect to database systems. It can also read and modify files.\n",
      "Python can be used to handle big data and perform complex mathematics.\n",
      "Python can be used for rapid prototyping, or for production-ready software development.\n",
      "Why Python?\n",
      "Python works on different platforms (Windows, Mac, Linux, Raspberry Pi, etc).\n",
      "Python has a simple syntax similar to the English language.\n",
      "Python has syntax that allows developers to write programs with fewer lines than some other programming languages.\n",
      "Python runs on an interpreter system, meaning that code can be executed as soon as it is written. This means that prototyping can be very quick.\n",
      "Python can be treated in a procedural way, an object-oriented way or a functional way.\n",
      "Good to know\n",
      "The most recent major version of Python is Python 3, which we shall be using in this tutorial. However, Python 2, although not being updated with anything other than security updates, is still quite popular.\n",
      "In this tutorial Python will be written in a text editor. It is possible to write Python in an Integrated Development Environment, such as Thonny, Pycharm, Netbeans or Eclipse which are particularly useful when managing larger collections of Python files.\n",
      "Python Syntax compared to other programming languages\n",
      "Python was designed for readability, and has some similarities to the English language with influence from mathematics.\n",
      "Python uses new lines to complete a command, as opposed to other programming languages which often use semicolons or parentheses.\n",
      "Python relies on indentation, using whitespace, to define scope; such as the scope of loops, functions and classes. Other programming languages often use curly-brackets for this purpose..\n",
      "Each question should have 4 options (A,B,C,D) and one correct answer.\n",
      "The questions should be of easy difficulty level.\n",
      "Generate the questions in the following format:\n",
      "\n",
      "Question:\n",
      "(Write the question here)\n",
      "\n",
      "Options:\n",
      "A) Option 1\n",
      "B) Option 2\n",
      "C) Option 3\n",
      "D) Option 4\n",
      "\n",
      "Correct Answer:\n",
      "(Write the correct option letter here, e.g., “B”)\n",
      "\n",
      "Explanation:\n",
      "(Briefly explain why the correct option is right and why others are wrong — optional but recommended.)\n",
      "##RESPONSE_FORMAT##\n",
      "\"Question:\\n(Write the question here)\\n\\nOptions:\\nA) Option 1\\nB) Option 2\\nC) Option 3\\nD) Option 4\\n\\nCorrect Answer:\\n(Write the correct option letter here, e.g., \\u201cB\\u201d)\\n\\nExplanation:\\n(Briefly explain why the correct option is right and why others are wrong \\u2014 optional but recommended.)\"\n",
      "\n",
      "\n",
      "##Note: Don't forget to ask the mentioned number of questions in the response.\n",
      "\u001b[0m\n",
      "\n",
      "\u001b[1m> Finished chain.\u001b[0m\n",
      "\n",
      "\n",
      "\u001b[1m> Entering new LLMChain chain...\u001b[0m\n",
      "Prompt after formatting:\n",
      "\u001b[32;1m\u001b[1;3m\n",
      "You are an expert Python Programming reviewer and I need you to 5 and review all of them. Review and analyze the following multiple-choice questions generated by an AI model.\n",
      "Evaluate the quality of the questions, options, and answers. Provide feedback on clarity, relevance, and correctness from the Question:\n",
      "What is Python primarily used for?\n",
      "\n",
      "Options:\n",
      "A) Web development\n",
      "B) Mobile app development\n",
      "C) Game development\n",
      "D) Graphic design\n",
      "\n",
      "Correct Answer:\n",
      "A) Web development\n",
      "\n",
      "Explanation:\n",
      "Python is commonly used for web development, including server-side programming, due to its versatility and ease of use in this domain.\n",
      "\n",
      "Question:\n",
      "Which version of Python is currently recommended for use in this tutorial?\n",
      "\n",
      "Options:\n",
      "A) Python 1\n",
      "B) Python 2\n",
      "C) Python 3\n",
      "D) Python 4\n",
      "\n",
      "Correct Answer:\n",
      "C) Python 3\n",
      "\n",
      "Explanation:\n",
      "Python 3 is the most recent major version of Python and is the recommended version for use in most cases due to its ongoing updates and improvements.\n",
      "\n",
      "Question:\n",
      "How does Python define scope for loops, functions, and classes?\n",
      "\n",
      "Options:\n",
      "A) Using curly brackets\n",
      "B) Using indentation and whitespace\n",
      "C) Using semicolons\n",
      "D) Using parentheses\n",
      "\n",
      "Correct Answer:\n",
      "B) Using indentation and whitespace\n",
      "\n",
      "Explanation:\n",
      "Python relies on indentation to define scope, which is different from many other programming languages that use curly brackets for this purpose.\n",
      "\n",
      "Question:\n",
      "What is a key advantage of Python's interpreter system?\n",
      "\n",
      "Options:\n",
      "A) It requires compilation before execution\n",
      "B) It allows for immediate execution of code\n",
      "C) It limits the speed of code execution\n",
      "D) It requires manual debugging for syntax errors\n",
      "\n",
      "Correct Answer:\n",
      "B) It allows for immediate execution of code\n",
      "\n",
      "Explanation:\n",
      "Python's interpreter system enables code to be executed as soon as it is written, facilitating quick prototyping and testing.\n",
      "\n",
      "Question:\n",
      "Which of the following is NOT a use case for Python?\n",
      "\n",
      "Options:\n",
      "A) Mathematics\n",
      "B) Web development\n",
      "C) Graphic design\n",
      "D) System scripting\n",
      "\n",
      "Correct Answer:\n",
      "C) Graphic design\n",
      "\n",
      "Explanation:\n",
      "While Python can be used for a wide range of applications, it is not typically used for graphic design as specialized tools are more commonly employed in this area..\n",
      "\u001b[0m\n",
      "\n",
      "\u001b[1m> Finished chain.\u001b[0m\n",
      "\n",
      "\u001b[1m> Finished chain.\u001b[0m\n",
      "Total Tokens Used: 2054\n",
      "Total Cost: $ 0.003355\n"
     ]
    }
   ],
   "source": [
    "with get_openai_callback() as cb:\n",
    "\n",
    "    response = generate_quiz_chain(\n",
    "    {\n",
    "        \"topic\":topic,\n",
    "        \"difficulty\":difficulty,\n",
    "        \"num_questions\":5,\n",
    "        \"text\":text,\n",
    "        \"response_json\":json.dumps(RESPONSE_JSON)  # Ensure response_json is a valid JSON string\n",
    "    }\n",
    "    )\n",
    "    print(\"Total Tokens Used:\", cb.total_tokens)\n",
    "    print(\"Total Cost: $\", cb.total_cost)\n",
    "    \n",
    "     "
   ]
  },
  {
   "cell_type": "code",
   "execution_count": 20,
   "id": "f8b06d51",
   "metadata": {},
   "outputs": [],
   "source": [
    "quiz = response.get(\"quiz\")"
   ]
  },
  {
   "cell_type": "code",
   "execution_count": 21,
   "id": "81e590c3",
   "metadata": {},
   "outputs": [
    {
     "name": "stdout",
     "output_type": "stream",
     "text": [
      "Question:\n",
      "What is Python primarily used for?\n",
      "\n",
      "Options:\n",
      "A) Web development\n",
      "B) Mobile app development\n",
      "C) Game development\n",
      "D) Graphic design\n",
      "\n",
      "Correct Answer:\n",
      "A) Web development\n",
      "\n",
      "Explanation:\n",
      "Python is commonly used for web development, including server-side programming, due to its versatility and ease of use in this domain.\n",
      "\n",
      "Question:\n",
      "Which version of Python is currently recommended for use in this tutorial?\n",
      "\n",
      "Options:\n",
      "A) Python 1\n",
      "B) Python 2\n",
      "C) Python 3\n",
      "D) Python 4\n",
      "\n",
      "Correct Answer:\n",
      "C) Python 3\n",
      "\n",
      "Explanation:\n",
      "Python 3 is the most recent major version of Python and is the recommended version for use in most cases due to its ongoing updates and improvements.\n",
      "\n",
      "Question:\n",
      "How does Python define scope for loops, functions, and classes?\n",
      "\n",
      "Options:\n",
      "A) Using curly brackets\n",
      "B) Using indentation and whitespace\n",
      "C) Using semicolons\n",
      "D) Using parentheses\n",
      "\n",
      "Correct Answer:\n",
      "B) Using indentation and whitespace\n",
      "\n",
      "Explanation:\n",
      "Python relies on indentation to define scope, which is different from many other programming languages that use curly brackets for this purpose.\n",
      "\n",
      "Question:\n",
      "What is a key advantage of Python's interpreter system?\n",
      "\n",
      "Options:\n",
      "A) It requires compilation before execution\n",
      "B) It allows for immediate execution of code\n",
      "C) It limits the speed of code execution\n",
      "D) It requires manual debugging for syntax errors\n",
      "\n",
      "Correct Answer:\n",
      "B) It allows for immediate execution of code\n",
      "\n",
      "Explanation:\n",
      "Python's interpreter system enables code to be executed as soon as it is written, facilitating quick prototyping and testing.\n",
      "\n",
      "Question:\n",
      "Which of the following is NOT a use case for Python?\n",
      "\n",
      "Options:\n",
      "A) Mathematics\n",
      "B) Web development\n",
      "C) Graphic design\n",
      "D) System scripting\n",
      "\n",
      "Correct Answer:\n",
      "C) Graphic design\n",
      "\n",
      "Explanation:\n",
      "While Python can be used for a wide range of applications, it is not typically used for graphic design as specialized tools are more commonly employed in this area.\n"
     ]
    }
   ],
   "source": [
    "print(quiz)"
   ]
  },
  {
   "cell_type": "code",
   "execution_count": 24,
   "id": "dc1b7afd",
   "metadata": {},
   "outputs": [],
   "source": [
    "json_data = json.dumps(RESPONSE_JSON)"
   ]
  },
  {
   "cell_type": "code",
   "execution_count": 25,
   "id": "bbe27ec8",
   "metadata": {},
   "outputs": [
    {
     "data": {
      "text/plain": [
       "'\"Question:\\\\n(Write the question here)\\\\n\\\\nOptions:\\\\nA) Option 1\\\\nB) Option 2\\\\nC) Option 3\\\\nD) Option 4\\\\n\\\\nCorrect Answer:\\\\n(Write the correct option letter here, e.g., \\\\u201cB\\\\u201d)\\\\n\\\\nExplanation:\\\\n(Briefly explain why the correct option is right and why others are wrong \\\\u2014 optional but recommended.)\"'"
      ]
     },
     "execution_count": 25,
     "metadata": {},
     "output_type": "execute_result"
    }
   ],
   "source": [
    "json_data "
   ]
  },
  {
   "cell_type": "code",
   "execution_count": null,
   "id": "2b8719f6",
   "metadata": {},
   "outputs": [],
   "source": []
  },
  {
   "cell_type": "code",
   "execution_count": null,
   "id": "23c2cf32",
   "metadata": {},
   "outputs": [],
   "source": []
  }
 ],
 "metadata": {
  "kernelspec": {
   "display_name": "genai_project",
   "language": "python",
   "name": "python3"
  },
  "language_info": {
   "codemirror_mode": {
    "name": "ipython",
    "version": 3
   },
   "file_extension": ".py",
   "mimetype": "text/x-python",
   "name": "python",
   "nbconvert_exporter": "python",
   "pygments_lexer": "ipython3",
   "version": "3.10.11"
  }
 },
 "nbformat": 4,
 "nbformat_minor": 5
}
